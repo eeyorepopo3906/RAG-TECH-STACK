{
 "cells": [
  {
   "cell_type": "code",
   "execution_count": null,
   "metadata": {},
   "outputs": [],
   "source": [
    "import warnings\n",
    "warnings.filterwarnings('ignore')\n",
    "import os, sys\n",
    "src_path = os.path.join(os.path.abspath('..'), 'src')\n",
    "if src_path not in sys.path:\n",
    "    sys.path.append(src_path)\n",
    "\n",
    "print(src_path)\n",
    "\n",
    "#from src.local_models.llm import MyLLM, LlamaCPPLLM\n",
    "from llama_index.llms.openai import OpenAI\n",
    "from llama_index.embeddings.openai import OpenAIEmbedding\n",
    "\n",
    "from data_loader.splitting import split_by_md_headers\n",
    "from data_loader.parsing import get_html, extract_md_tables\n",
    "\n",
    "from llama_index.core import Document\n",
    "from data_loader.chunking import chunk_docs_standalone\n",
    "from llama_index.core import VectorStoreIndex\n",
    "from llama_index.core import PromptTemplate\n",
    "\n",
    "from data_loader.load_from_dir import rebuild_index\n",
    "from utils import load_prompt\n",
    "\n",
    "\n",
    "\n",
    "from llama_index.core.tools import QueryEngineTool, ToolMetadata\n",
    "from llama_index.agent.openai import OpenAIAgent\n",
    "\n",
    "\n",
    "from dotenv import load_dotenv\n",
    "import os"
   ]
  },
  {
   "cell_type": "code",
   "execution_count": null,
   "metadata": {},
   "outputs": [],
   "source": [
    "load_dotenv(override=True)"
   ]
  },
  {
   "cell_type": "code",
   "execution_count": null,
   "metadata": {},
   "outputs": [],
   "source": [
    "embed_model = OpenAIEmbedding()\n",
    "llm = OpenAI()"
   ]
  },
  {
   "cell_type": "code",
   "execution_count": null,
   "metadata": {},
   "outputs": [],
   "source": [
    "#first-time build\n",
    "\n",
    "df = split_by_md_headers('../data/RAG-Zelda-Tears-of-the-Kingdom(Fan-made).md')\n",
    "df['text_html'] = df['content'].apply(lambda x: get_html(x))\n",
    "df = extract_md_tables(df)"
   ]
  },
  {
   "cell_type": "code",
   "execution_count": null,
   "metadata": {},
   "outputs": [],
   "source": [
    "df"
   ]
  },
  {
   "cell_type": "code",
   "execution_count": null,
   "metadata": {},
   "outputs": [],
   "source": [
    "table_docs = [Document(text=tbl, metadata={}) for tbl in df[df['is_table']==1]['table'].values]\n",
    "\n",
    "text_docs = [Document(text=tbl, metadata={}) for tbl in df[df['is_table']==0]['text'].values]\n",
    "text_nodes = [chunk_docs_standalone(text_docs[i], chunk_size=512, chunk_overlap=50)[0] for i in range(len(text_docs))]\n",
    "\n",
    "table_index = VectorStoreIndex.from_documents(table_docs)\n",
    "text_index = VectorStoreIndex(text_nodes)\n",
    "\n",
    "#persist to disk\n",
    "table_index.storage_context.persist(persist_dir=\"../db_stores/table_index\")\n",
    "text_index.storage_context.persist(persist_dir='../db_stores/text_index')\n"
   ]
  },
  {
   "cell_type": "code",
   "execution_count": null,
   "metadata": {},
   "outputs": [],
   "source": [
    "#rebuild storage context from disk\n",
    "table_index = rebuild_index(\"../db_stores/table_index\")\n",
    "text_index = rebuild_index(\"../db_stores/text_index\")\n"
   ]
  },
  {
   "cell_type": "code",
   "execution_count": null,
   "metadata": {},
   "outputs": [],
   "source": [
    "table_engine = table_index.as_query_engine()\n",
    "text_engine = text_index.as_query_engine()\n"
   ]
  },
  {
   "cell_type": "code",
   "execution_count": null,
   "metadata": {},
   "outputs": [],
   "source": [
    "# define tools\n",
    "query_engine_tools = [\n",
    "    QueryEngineTool(\n",
    "        query_engine=table_engine,\n",
    "        metadata=ToolMetadata(\n",
    "            name=\"table_tool\",\n",
    "            description=(\n",
    "                \"Useful for retrieving specific context from tables\"\n",
    "            ),\n",
    "        ),\n",
    "    ),\n",
    "    QueryEngineTool(\n",
    "        query_engine=text_engine,\n",
    "        metadata=ToolMetadata(\n",
    "            name=\"text_tool\",\n",
    "            description=(\n",
    "                \"Useful for retrieving specific context from plain text\"\n",
    "            ),\n",
    "        ),\n",
    "    ),\n",
    "]"
   ]
  },
  {
   "cell_type": "code",
   "execution_count": null,
   "metadata": {},
   "outputs": [],
   "source": [
    "# build agent\n",
    "agent = OpenAIAgent.from_tools(\n",
    "    query_engine_tools,\n",
    "    max_function_calls=3,\n",
    "    verbose=True,\n",
    "    system_prompt=f\"\"\"\\        \n",
    "        If you inquire general-purpose questions, refer to the text_tool as a priority.\n",
    "        For questions involving numbers and figures, refer to the table_tool first.\n",
    "        If you need to analyze problems demanding a higher degree of rigorous reasoning, such as step-by-step instructions, \n",
    "        please utilize both the text_tool and table_tool to synthesize your answer.\n",
    "        \n",
    "        You must ALWAYS use at least one of the tools provided when answering a question; do NOT rely on prior knowledge.\\\n",
    "        You should answer in English only.\n",
    "        \"\"\",\n",
    ")"
   ]
  },
  {
   "cell_type": "code",
   "execution_count": null,
   "metadata": {},
   "outputs": [],
   "source": [
    "response = agent.query('What is the background setting of Tears of the Kingdom?')"
   ]
  },
  {
   "cell_type": "code",
   "execution_count": null,
   "metadata": {},
   "outputs": [],
   "source": [
    "response.response"
   ]
  },
  {
   "cell_type": "code",
   "execution_count": null,
   "metadata": {},
   "outputs": [],
   "source": [
    "response.source_nodes[0].text"
   ]
  },
  {
   "cell_type": "code",
   "execution_count": null,
   "metadata": {},
   "outputs": [],
   "source": [
    "agent.query('Tell me something about the Sautéed Warm Fruit\t？')"
   ]
  }
 ],
 "metadata": {
  "kernelspec": {
   "display_name": ".venv",
   "language": "python",
   "name": "python3"
  },
  "language_info": {
   "codemirror_mode": {
    "name": "ipython",
    "version": 3
   },
   "file_extension": ".py",
   "mimetype": "text/x-python",
   "name": "python",
   "nbconvert_exporter": "python",
   "pygments_lexer": "ipython3",
   "version": "3.11.8"
  }
 },
 "nbformat": 4,
 "nbformat_minor": 2
}
