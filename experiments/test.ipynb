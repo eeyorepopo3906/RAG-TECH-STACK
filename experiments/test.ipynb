{
 "cells": [
  {
   "cell_type": "code",
   "execution_count": null,
   "metadata": {},
   "outputs": [],
   "source": [
    "#%pip install llama-index-llms-openai\n",
    "#%pip install llama-index-agent-openai"
   ]
  },
  {
   "cell_type": "code",
   "execution_count": 1,
   "metadata": {},
   "outputs": [],
   "source": [
    "from dotenv import load_dotenv"
   ]
  },
  {
   "cell_type": "code",
   "execution_count": 2,
   "metadata": {},
   "outputs": [
    {
     "name": "stderr",
     "output_type": "stream",
     "text": [
      "/Users/friedatong3906/Desktop/产品分析/corpus/38/.venv/lib/python3.11/site-packages/tqdm/auto.py:21: TqdmWarning: IProgress not found. Please update jupyter and ipywidgets. See https://ipywidgets.readthedocs.io/en/stable/user_install.html\n",
      "  from .autonotebook import tqdm as notebook_tqdm\n"
     ]
    }
   ],
   "source": [
    "from llama_index.core import VectorStoreIndex, SimpleDirectoryReader\n",
    "from llama_index.core import SummaryIndex\n",
    "from llama_index.core.schema import IndexNode\n",
    "from llama_index.core.tools import QueryEngineTool, ToolMetadata\n",
    "from llama_index.llms.openai import OpenAI"
   ]
  },
  {
   "cell_type": "code",
   "execution_count": 3,
   "metadata": {},
   "outputs": [],
   "source": [
    "wiki_titles = [\"Boston\", \"Chicago\"]"
   ]
  },
  {
   "cell_type": "code",
   "execution_count": 4,
   "metadata": {},
   "outputs": [],
   "source": [
    "from pathlib import Path\n",
    "\n",
    "import requests\n",
    "\n",
    "for title in wiki_titles:\n",
    "    response = requests.get(\n",
    "        \"https://en.wikipedia.org/w/api.php\",\n",
    "        params={\n",
    "            \"action\": \"query\",\n",
    "            \"format\": \"json\",\n",
    "            \"titles\": title,\n",
    "            \"prop\": \"extracts\",\n",
    "            # 'exintro': True,\n",
    "            \"explaintext\": True,\n",
    "        },\n",
    "    ).json()\n",
    "    page = next(iter(response[\"query\"][\"pages\"].values()))\n",
    "    wiki_text = page[\"extract\"]\n",
    "\n",
    "    data_path = Path(\"data\")\n",
    "    if not data_path.exists():\n",
    "        Path.mkdir(data_path)\n",
    "\n",
    "    with open(data_path / f\"{title}.txt\", \"w\") as fp:\n",
    "        fp.write(wiki_text)"
   ]
  },
  {
   "cell_type": "code",
   "execution_count": 5,
   "metadata": {},
   "outputs": [],
   "source": [
    "# Load all wiki documents\n",
    "city_docs = {}\n",
    "for wiki_title in wiki_titles:\n",
    "    city_docs[wiki_title] = SimpleDirectoryReader(\n",
    "        input_files=[f\"data/{wiki_title}.txt\"]\n",
    "    ).load_data()"
   ]
  },
  {
   "cell_type": "code",
   "execution_count": 6,
   "metadata": {},
   "outputs": [],
   "source": [
    "from llama_index.agent.openai import OpenAIAgent\n",
    "\n",
    "# Build agents dictionary\n",
    "agents = {}\n",
    "\n",
    "for wiki_title in wiki_titles:\n",
    "    # build vector index\n",
    "    vector_index = VectorStoreIndex.from_documents(\n",
    "        city_docs[wiki_title],\n",
    "    )\n",
    "    # build summary index\n",
    "    summary_index = SummaryIndex.from_documents(\n",
    "        city_docs[wiki_title],\n",
    "    )\n",
    "    # define query engines\n",
    "    vector_query_engine = vector_index.as_query_engine()\n",
    "    list_query_engine = summary_index.as_query_engine()\n",
    "\n",
    "    # define tools\n",
    "    query_engine_tools = [\n",
    "        QueryEngineTool(\n",
    "            query_engine=vector_query_engine,\n",
    "            metadata=ToolMetadata(\n",
    "                name=\"vector_tool\",\n",
    "                description=(\n",
    "                    f\"Useful for retrieving specific context from {wiki_title}\"\n",
    "                ),\n",
    "            ),\n",
    "        ),\n",
    "        QueryEngineTool(\n",
    "            query_engine=list_query_engine,\n",
    "            metadata=ToolMetadata(\n",
    "                name=\"summary_tool\",\n",
    "                description=(\n",
    "                    \"Useful for summarization questions related to\"\n",
    "                    f\" {wiki_title}\"\n",
    "                ),\n",
    "            ),\n",
    "        ),\n",
    "    ]\n",
    "\n",
    "    # build agent\n",
    "    function_llm = OpenAI(model=\"gpt-3.5-turbo-0613\")\n",
    "    agent = OpenAIAgent.from_tools(\n",
    "        query_engine_tools,\n",
    "        llm=function_llm,\n",
    "        verbose=True,\n",
    "    )\n",
    "\n",
    "    agents[wiki_title] = agent"
   ]
  },
  {
   "cell_type": "code",
   "execution_count": 7,
   "metadata": {},
   "outputs": [],
   "source": [
    "# define top-level nodes\n",
    "objects = []\n",
    "for wiki_title in wiki_titles:\n",
    "    # define index node that links to these agents\n",
    "    wiki_summary = (\n",
    "        f\"This content contains Wikipedia articles about {wiki_title}. Use\"\n",
    "        \" this index if you need to lookup specific facts about\"\n",
    "        f\" {wiki_title}.\\nDo not use this index if you want to analyze\"\n",
    "        \" multiple cities.\"\n",
    "    )\n",
    "    node = IndexNode(\n",
    "        text=wiki_summary, index_id=wiki_title, obj=agents[wiki_title]\n",
    "    )\n",
    "    objects.append(node)"
   ]
  },
  {
   "cell_type": "code",
   "execution_count": 8,
   "metadata": {},
   "outputs": [],
   "source": [
    "# define top-level retriever\n",
    "vector_index = VectorStoreIndex(\n",
    "    objects=objects,\n",
    ")\n",
    "query_engine = vector_index.as_query_engine(similarity_top_k=1, verbose=True)"
   ]
  },
  {
   "cell_type": "code",
   "execution_count": 9,
   "metadata": {},
   "outputs": [
    {
     "name": "stdout",
     "output_type": "stream",
     "text": [
      "\u001b[1;3;38;2;11;159;203mRetrieval entering Boston: OpenAIAgent\n",
      "\u001b[0m\u001b[1;3;38;2;237;90;200mRetrieving from object OpenAIAgent with query Tell me which city is more suitable for living, Boston or Chicago\n",
      "\u001b[0mAdded user message to memory: Tell me which city is more suitable for living, Boston or Chicago\n"
     ]
    }
   ],
   "source": [
    "response = query_engine.query(\"Tell me which city is more suitable for living, Boston or Chicago\")"
   ]
  },
  {
   "cell_type": "code",
   "execution_count": 14,
   "metadata": {},
   "outputs": [
    {
     "name": "stdout",
     "output_type": "stream",
     "text": [
      "\u001b[1;3;38;2;11;159;203mRetrieval entering Chicago: OpenAIAgent\n",
      "\u001b[0m\u001b[1;3;38;2;237;90;200mRetrieving from object OpenAIAgent with query Give me a summary on all the positive aspects of Chicago\n",
      "\u001b[0mAdded user message to memory: Give me a summary on all the positive aspects of Chicago\n",
      "=== Calling Function ===\n",
      "Calling function: summary_tool with args: {\n",
      "  \"input\": \"positive aspects of Chicago\"\n",
      "}\n",
      "Got output: Chicago is a bustling city with a dynamic economy that acts as a global center for multiple sectors, including finance, culture, commerce, technology, and transportation. It plays a significant role in the derivatives market and has a substantial gross domestic product. Moreover, the city is a popular tourist spot recognized for its influence on various art forms like visual arts, literature, film, theater, comedy, food, dance, and music. Chicago also houses renowned educational institutions and professional sports teams in major leagues.\n",
      "========================\n",
      "\n"
     ]
    },
    {
     "data": {
      "text/plain": [
       "Response(response=\"Chicago is a vibrant and attractive city known for its diverse and robust economy, rich cultural scene, impressive architecture, culinary delights, passionate sports culture, prestigious educational institutions, stunning lakefront views and parks, and efficient public transportation system. These positive aspects collectively contribute to Chicago's dynamic character, making it a desirable destination for residents, tourists, and professionals.\", source_nodes=[NodeWithScore(node=TextNode(id_='48b70fc8-9e09-4516-a62e-60c8508ff195', embedding=None, metadata={}, excluded_embed_metadata_keys=[], excluded_llm_metadata_keys=[], relationships={}, text='Chicago has several positive aspects that make it a vibrant and attractive city. Here are some key highlights:\\n\\n1. Economic Hub: Chicago is a major economic center, with a diverse and robust economy. It is home to numerous Fortune 500 companies and has a strong presence in industries such as finance, technology, manufacturing, healthcare, and transportation. The city\\'s economy provides ample job opportunities and attracts professionals from various fields.\\n\\n2. Cultural Capital: Chicago is renowned for its rich cultural scene. It has a thriving arts and entertainment industry, with world-class museums, art galleries, theaters, and music venues. The city has a deep-rooted history in jazz, blues, and gospel music, and it continues to be a hub for emerging artists and performers. Chicago also hosts numerous festivals and events throughout the year, celebrating its diverse cultural heritage.\\n\\n3. Architectural Marvels: The city is known for its impressive architecture, with iconic landmarks such as the Willis Tower (formerly Sears Tower), the John Hancock Center, and the Cloud Gate sculpture in Millennium Park. Chicago\\'s skyline is a testament to its architectural innovation and design.\\n\\n4. Culinary Delights: Chicago is a food lover\\'s paradise, offering a wide range of culinary experiences. The city is famous for its deep-dish pizza, Chicago-style hot dogs, and diverse food scene that includes international cuisines, gourmet restaurants, and innovative food concepts. From Michelin-starred establishments to neighborhood eateries, Chicago has something to satisfy every palate.\\n\\n5. Sports Enthusiasm: Chicago is home to several professional sports teams, including the Chicago Cubs (baseball), Chicago Bulls (basketball), Chicago Bears (football), and Chicago Blackhawks (hockey). The city\\'s passionate sports culture creates a vibrant atmosphere and provides entertainment for sports enthusiasts.\\n\\n6. Education and Research: Chicago boasts prestigious educational institutions, including the University of Chicago, Northwestern University, and the Illinois Institute of Technology. These universities contribute to the city\\'s intellectual capital and attract students and researchers from around the world.\\n\\n7. Lakefront and Parks: Chicago is situated on the shores of Lake Michigan, offering stunning lakefront views and recreational opportunities. The city has an extensive park system, including Grant Park, Millennium Park, and Lincoln Park, providing green spaces for outdoor activities, festivals, and events.\\n\\n8. Public Transportation: Chicago has a well-developed public transportation system, including the iconic \"L\" train system and buses, making it easy to navigate the city. The efficient transportation network connects various neighborhoods and allows residents and visitors to explore the city conveniently.\\n\\nThese positive aspects contribute to Chicago\\'s vibrant and dynamic character, making it a desirable destination for residents, tourists, and professionals alike.', start_char_idx=None, end_char_idx=None, text_template='{metadata_str}\\n\\n{content}', metadata_template='{key}: {value}', metadata_seperator='\\n'), score=0.8196787644140145)], metadata={'48b70fc8-9e09-4516-a62e-60c8508ff195': {}})"
      ]
     },
     "execution_count": 14,
     "metadata": {},
     "output_type": "execute_result"
    }
   ],
   "source": [
    "query_engine.query(\"Give me a summary on all the positive aspects of Chicago\")"
   ]
  },
  {
   "cell_type": "code",
   "execution_count": 15,
   "metadata": {},
   "outputs": [
    {
     "name": "stdout",
     "output_type": "stream",
     "text": [
      "\u001b[1;3;38;2;11;159;203mRetrieval entering Boston: OpenAIAgent\n",
      "\u001b[0m\u001b[1;3;38;2;237;90;200mRetrieving from object OpenAIAgent with query Tell me about the sports teams in Boston\n",
      "\u001b[0mAdded user message to memory: Tell me about the sports teams in Boston\n"
     ]
    },
    {
     "data": {
      "text/plain": [
       "Response(response=\"Boston is home to several professional sports teams with rich histories and dedicated fan bases. The major sports teams in Boston include the Boston Red Sox in MLB, the New England Patriots in NFL, the Boston Celtics in NBA, the Boston Bruins in NHL, and the New England Revolution in MLS. These teams have achieved significant success in their respective leagues, with multiple championships and a strong presence in the city's sports culture.\", source_nodes=[NodeWithScore(node=TextNode(id_='6f488820-10cd-45f6-ade3-5735edcd26a6', embedding=None, metadata={}, excluded_embed_metadata_keys=[], excluded_llm_metadata_keys=[], relationships={}, text='Boston is home to several professional sports teams that have a rich history and a dedicated fan base. Here are some of the major sports teams in Boston:\\n\\n1. Boston Red Sox (MLB): The Boston Red Sox are one of the oldest and most successful baseball teams in Major League Baseball. They play their home games at Fenway Park, which is the oldest ballpark in the league. The Red Sox have won multiple World Series championships, including recent victories in 2004, 2007, 2013, and 2018.\\n\\n2. New England Patriots (NFL): The New England Patriots are one of the most successful teams in the National Football League. They have won six Super Bowl championships, with their most recent victories in 2001, 2003, 2004, 2014, 2016, and 2018. The Patriots play their home games at Gillette Stadium in Foxborough, Massachusetts.\\n\\n3. Boston Celtics (NBA): The Boston Celtics are one of the most storied franchises in the National Basketball Association. They have won a record 17 NBA championships, with their most recent victory in 2008. The Celtics play their home games at the TD Garden in Boston.\\n\\n4. Boston Bruins (NHL): The Boston Bruins are a professional ice hockey team in the National Hockey League. They have won six Stanley Cup championships, with their most recent victory in 2011. The Bruins play their home games at the TD Garden in Boston.\\n\\n5. New England Revolution (MLS): The New England Revolution is a professional soccer team in Major League Soccer. They play their home games at Gillette Stadium in Foxborough, Massachusetts. While they have not won an MLS Cup, the Revolution has had success in reaching the playoffs multiple times.\\n\\nThese teams have a passionate fan base and their games attract a lot of attention and support from the people of Boston.', start_char_idx=None, end_char_idx=None, text_template='{metadata_str}\\n\\n{content}', metadata_template='{key}: {value}', metadata_seperator='\\n'), score=0.8129582515660619)], metadata={'6f488820-10cd-45f6-ade3-5735edcd26a6': {}})"
      ]
     },
     "execution_count": 15,
     "metadata": {},
     "output_type": "execute_result"
    }
   ],
   "source": [
    "query_engine.query(\"Tell me about the sports teams in Boston\")"
   ]
  },
  {
   "cell_type": "code",
   "execution_count": 16,
   "metadata": {},
   "outputs": [
    {
     "data": {
      "text/plain": [
       "NodeWithScore(node=TextNode(id_='d58e54ad-e840-4a27-902f-8bdbddf47054', embedding=None, metadata={}, excluded_embed_metadata_keys=[], excluded_llm_metadata_keys=[], relationships={}, text='Both Boston and Chicago are vibrant cities with their own unique characteristics. The suitability for living in a city depends on individual preferences and priorities. Here are some factors to consider when comparing Boston and Chicago:\\n\\n1. Cost of Living: Boston generally has a higher cost of living compared to Chicago. Housing, transportation, and daily expenses tend to be more expensive in Boston.\\n\\n2. Job Opportunities: Both cities offer a range of job opportunities, but Boston is known for its strong presence in industries like education, healthcare, finance, and technology. Chicago, on the other hand, has a diverse economy with a focus on finance, manufacturing, and transportation.\\n\\n3. Education: Boston is home to several prestigious universities and colleges, including Harvard University and MIT. It is known for its strong education system. Chicago also has excellent educational institutions, including the University of Chicago and Northwestern University.\\n\\n4. Cultural Scene: Both cities have a rich cultural scene with museums, theaters, music venues, and art galleries. Boston has a strong historical and intellectual atmosphere, while Chicago is known for its vibrant arts and music scene.\\n\\n5. Sports and Recreation: Boston is passionate about its sports teams, especially the Red Sox, Patriots, Celtics, and Bruins. The city also offers outdoor recreational activities with its proximity to the ocean and parks. Chicago is also sports-oriented, with passionate fans supporting teams like the Cubs, Bears, Bulls, and Blackhawks. The city has beautiful parks and a scenic waterfront.\\n\\n6. Climate: Boston experiences four distinct seasons, with cold winters and hot summers. Chicago also has four seasons, but winters can be harsh with heavy snowfall. Summers in both cities can be humid.\\n\\nUltimately, the choice between Boston and Chicago depends on your personal preferences, career goals, and lifestyle. It is recommended to visit both cities, explore the neighborhoods, and consider factors that are important to you before making a decision.', start_char_idx=None, end_char_idx=None, text_template='{metadata_str}\\n\\n{content}', metadata_template='{key}: {value}', metadata_seperator='\\n'), score=0.8046327917009032)"
      ]
     },
     "execution_count": 16,
     "metadata": {},
     "output_type": "execute_result"
    }
   ],
   "source": [
    "response.source_nodes[0]"
   ]
  },
  {
   "cell_type": "code",
   "execution_count": null,
   "metadata": {},
   "outputs": [],
   "source": []
  }
 ],
 "metadata": {
  "kernelspec": {
   "display_name": ".venv",
   "language": "python",
   "name": "python3"
  },
  "language_info": {
   "codemirror_mode": {
    "name": "ipython",
    "version": 3
   },
   "file_extension": ".py",
   "mimetype": "text/x-python",
   "name": "python",
   "nbconvert_exporter": "python",
   "pygments_lexer": "ipython3",
   "version": "3.11.5"
  }
 },
 "nbformat": 4,
 "nbformat_minor": 2
}
