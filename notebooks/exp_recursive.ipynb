{
 "cells": [
  {
   "cell_type": "code",
   "execution_count": 1,
   "metadata": {},
   "outputs": [],
   "source": [
    "import warnings\n",
    "warnings.filterwarnings('ignore')\n",
    "import sys\n",
    "sys.path.append(\"..\")\n",
    "\n",
    "\n",
    "from llama_index.llms.openai import OpenAI\n",
    "from src.local_models.embeddings import get_embed_model\n",
    "from llama_index.core import ServiceContext\n",
    "\n",
    "from src.data_loader.load_files import load_data\n",
    "from src.data_loader.chunking import chunk_docs_standalone\n",
    "from src.data_loader.load_from_dir import rebuild_index\n",
    "from src.utils import load_prompt\n",
    "\n",
    "#from llama_index.core import Document\n",
    "import os, re\n",
    "\n",
    "\n",
    "from typing import Dict, List\n",
    "from dotenv import load_dotenv"
   ]
  },
  {
   "cell_type": "code",
   "execution_count": 2,
   "metadata": {},
   "outputs": [],
   "source": [
    "from llama_index.core import SimpleDirectoryReader\n",
    "from llama_index.core import VectorStoreIndex, SummaryIndex\n",
    "from llama_index.core import PromptTemplate\n",
    "from llama_index.core.tools import QueryEngineTool, ToolMetadata\n",
    "from llama_index.core.schema import IndexNode\n",
    "\n",
    "from llama_index.agent.openai import OpenAIAgent\n",
    "\n",
    "\n",
    "from llama_index.core.retrievers import RecursiveRetriever\n",
    "from llama_index.core.response_synthesizers import get_response_synthesizer\n",
    "from llama_index.core.query_engine import RetrieverQueryEngine"
   ]
  },
  {
   "cell_type": "code",
   "execution_count": 3,
   "metadata": {},
   "outputs": [
    {
     "data": {
      "text/plain": [
       "True"
      ]
     },
     "execution_count": 3,
     "metadata": {},
     "output_type": "execute_result"
    }
   ],
   "source": [
    "load_dotenv(override=True)"
   ]
  },
  {
   "cell_type": "markdown",
   "metadata": {},
   "source": [
    "### load llm and embed_model"
   ]
  },
  {
   "cell_type": "code",
   "execution_count": 4,
   "metadata": {},
   "outputs": [],
   "source": [
    "embed_model = get_embed_model(model_name=os.environ['embed_path'],  model_kwargs={'device': 'cpu'}, encode_kwargs = {'normalize_embeddings': True})\n",
    "\n",
    "llm = OpenAI()\n",
    "service_context = ServiceContext.from_defaults(llm=llm, embed_model=embed_model)\n",
    "\n"
   ]
  },
  {
   "cell_type": "markdown",
   "metadata": {},
   "source": [
    "### load documents and get embeddinsg"
   ]
  },
  {
   "cell_type": "code",
   "execution_count": null,
   "metadata": {},
   "outputs": [],
   "source": [
    "documents = load_data(os.environ['data_path'])\n"
   ]
  },
  {
   "cell_type": "code",
   "execution_count": null,
   "metadata": {},
   "outputs": [],
   "source": [
    "def get_embeddings_from_docs(docs):\n",
    "    for i, doc in enumerate(docs):\n",
    "        #apply chunking to documents\n",
    "        nodes = [chunk_docs_standalone(doc, chunk_size=512, chunk_overlap=50)][0]\n",
    "        print(len(nodes))\n",
    "\n",
    "        #build vector index--first time\n",
    "        vector_index = VectorStoreIndex(nodes, embed_model=embed_model)\n",
    "        vector_index.storage_context.persist(persist_dir=f\"../db_stores/doc_agent_vector_index/idx_{i}\")\n",
    "\n",
    "\n",
    "        #build keyword indexfirst time\n",
    "        #kw_index = KeywordTableIndex.from_docunments(docs[kw])\n",
    "        summary_index = SummaryIndex(nodes, embed_model=embed_model)\n",
    "        summary_index.storage_context.persist(persist_dir=f\"../db_stores/doc_agent_summary_index/idx_{i}\")"
   ]
  },
  {
   "cell_type": "code",
   "execution_count": null,
   "metadata": {},
   "outputs": [],
   "source": [
    "get_embeddings_from_docs(documents)"
   ]
  },
  {
   "cell_type": "markdown",
   "metadata": {},
   "source": [
    "### build query engine (document agents)"
   ]
  },
  {
   "cell_type": "code",
   "execution_count": 5,
   "metadata": {},
   "outputs": [],
   "source": [
    "#load prompt\n",
    "prompt_str = load_prompt('../prompt_bank/safety_practice.txt')\n",
    "new_vector_tmpl = PromptTemplate(prompt_str)"
   ]
  },
  {
   "cell_type": "code",
   "execution_count": 6,
   "metadata": {},
   "outputs": [],
   "source": [
    "mappings = {\n",
    "    '第一部分': '公共规则：范围、规范性饮用文件、属于和定义、总则、作业基本条件及要求、保证安全的组织措施、保证安全的技术措施、设备巡视、设备操作',\n",
    "    '第二部分': '常规作业：单一类型作业、带电作业、邻近带点体作业、二次设备作业、架空线路作业、电力电缆作业、高/低压配电网作业',\n",
    "    '第三部分': '专项作业：试验作业、电气测量作业、水轮机作业、高处作业、密封空间作业、水域作业、焊接及切割作业、动火作业、起重与运输',\n",
    "    '第四部分': '工器具：安全工器具、带电作业工具、施工机具、电器工具及一般工具',\n",
    "}"
   ]
  },
  {
   "cell_type": "code",
   "execution_count": 14,
   "metadata": {},
   "outputs": [],
   "source": [
    "def build_doc_agent_engine(similarity_top_k=None):\n",
    "    ##Build Document Agent for each Document\n",
    "    num_docs = 4#len(documents)\n",
    "\n",
    "    #build agents dict\n",
    "    agents = {}\n",
    "    nodes = []\n",
    "    for i in range(num_docs):\n",
    "        \n",
    "        #load from disk\n",
    "        vector_index = rebuild_index(persist_dir=f'../db_stores/doc_agent_vector_index/idx_{i}', service_context=service_context)\n",
    "        fn = list(vector_index.ref_doc_info.values())[0].metadata['file_name'].split('.')[0]\n",
    "\n",
    "\n",
    "\n",
    "\n",
    "        #load from disk\n",
    "        summary_index = rebuild_index(persist_dir=f'../db_stores/doc_agent_summary_index/idx_{i}', service_context=service_context)\n",
    "\n",
    "\n",
    "\n",
    "        #define query engines\n",
    "        vector_query_engine = vector_index.as_query_engine(llm=llm)\n",
    "        vector_query_engine.update_prompts({'response_synthesizer:text_qa_template': new_vector_tmpl})\n",
    "        \n",
    "        #kw_query_engine = kw_index.as_query_engine()\n",
    "        list_query_engine = summary_index.as_query_engine(llm=llm)\n",
    "        list_query_engine.update_prompts({'response_synthesizer:text_qa_template': new_vector_tmpl})\n",
    "\n",
    "        #define tools\n",
    "        query_engine_tools = [\n",
    "            QueryEngineTool(\n",
    "                query_engine=vector_query_engine,\n",
    "                metadata=ToolMetadata(\n",
    "                    name=\"vector_tool\",\n",
    "                    description=(\n",
    "                        f\"Useful for retrieving specific context from {fn}\"\n",
    "                    )\n",
    "                )\n",
    "            ),\n",
    "            QueryEngineTool(\n",
    "                #query_engine=kw_query_engine,\n",
    "                query_engine=list_query_engine,\n",
    "                metadata=ToolMetadata(\n",
    "                    name=\"summary_tool\",\n",
    "                    description=(\n",
    "                        f\"Useful for summarization-wise questions about {fn}\"\n",
    "                    )\n",
    "                )\n",
    "            )\n",
    "        ]\n",
    "        \n",
    "\n",
    "        #build agents\n",
    "        agent = OpenAIAgent.from_tools(\n",
    "            query_engine_tools,\n",
    "            llm=llm,\n",
    "            embed_model=embed_model,\n",
    "            verbose=True,\n",
    "            \n",
    "            \n",
    "            system_prompt=f\"\"\"\\\n",
    "                Make sure to respond in Chinese.\n",
    "\n",
    "                You must ALWAYS use at least one of the tools provided when answering a question; do NOT rely on prior knowledge.\n",
    "\n",
    "                Please refer to the summary_tool first if you inquire summarization-wise questions about{mappings[fn]},\n",
    "\n",
    "                If you need to fetch details about {mappings[fn]}, please refer to the vector_tool first.\n",
    "                \"\"\",\n",
    "        )\n",
    "        agents[fn] = agent\n",
    "    \n",
    "    \n",
    "        ##Build Composable Retriever over the agents\n",
    "        #define top-level nodes\n",
    "        instru =(\n",
    "            f\"This content contains instructions on safety practice regarding {mappings[fn]}, \"\n",
    "            f\"Use this index if you need to look up specific facts about {mappings[fn]}, \"\n",
    "            f\"Do not use this index if you want to analyze aspects beyond {mappings[fn]} \"\n",
    "\n",
    "        )\n",
    "\n",
    "        node = IndexNode(\n",
    "            text=instru, index_id=fn, obj= agent\n",
    "            )\n",
    "        nodes.append(node)\n",
    "    \n",
    "    #define top-level retriever\n",
    "    top_vector_index = VectorStoreIndex(objects=nodes, embed_model=embed_model)\n",
    "    query_engine = top_vector_index.as_query_engine(similarity_top_k=similarity_top_k, verbose=True)\n",
    "    return query_engine\n"
   ]
  },
  {
   "cell_type": "code",
   "execution_count": 35,
   "metadata": {},
   "outputs": [],
   "source": [
    "t = build_doc_agent_engine(similarity_top_k=1)"
   ]
  },
  {
   "cell_type": "code",
   "execution_count": 36,
   "metadata": {},
   "outputs": [
    {
     "name": "stdout",
     "output_type": "stream",
     "text": [
      "\u001b[1;3;38;2;11;159;203mRetrieval entering 第二部分: OpenAIAgent\n",
      "\u001b[0m\u001b[1;3;38;2;237;90;200mRetrieving from object OpenAIAgent with query 作业基本条件及要求有哪些\n",
      "\u001b[0mAdded user message to memory: 作业基本条件及要求有哪些\n",
      "=== Calling Function ===\n",
      "Calling function: vector_tool with args: {\"input\":\"作业基本条件及要求有哪些\"}\n",
      "Got output: 作业基本条件及要求包括：\n",
      "1. 作业环境应满足安全要求。\n",
      "2. 在进行电力电缆作业时，应核对电缆标志牌的名称是否与工作票相符。\n",
      "3. 高处砍剪树木时应使用安全带，并不得将安全带系在待砍剪树枝的断口附近或以上。\n",
      "4. 在电缆隧道、电缆井内应有充足的照明，并有防火、防水、通风的措施。\n",
      "5. 融冰装置启动前应关闭电源侧高压室大门，禁止无关人员进入。\n",
      "6. 待融冰的导线或地线位于杆塔同一侧垂直排列时，应先融上层，后融下层。\n",
      "7. 装设好导线与地线之间的连接线后，应拆除导线接地线，并拉开地线接地刀闸。\n",
      "8. 未合接地刀闸前不得徒手碰触架空地线引下线、连接电缆、接地刀闸、电缆头等裸露的电气部位。\n",
      "9. 操作杆塔上的接地刀闸或装、拆连接线时，应戴绝缘手套，使用绝缘操作杆。\n",
      "10. 裸露的连接线应盘卷放置在绝缘架上，用绝缘护套包好，悬空放置，不能与塔材接触。\n",
      "11. 危险化学品从业人员应接受安全教育和岗位技术培训，考核合格后方可上岗作业。\n",
      "========================\n",
      "\n",
      "\u001b[1;3;38;2;11;159;203mRetrieval entering 第三部分: OpenAIAgent\n",
      "\u001b[0m\u001b[1;3;38;2;237;90;200mRetrieving from object OpenAIAgent with query 作业基本条件及要求有哪些\n",
      "\u001b[0mAdded user message to memory: 作业基本条件及要求有哪些\n",
      "=== Calling Function ===\n",
      "Calling function: vector_tool with args: {\"input\":\"作业基本条件及要求有哪些\"}\n",
      "Got output: 作业基本条件及要求包括：\n",
      "1. 在使用软梯、挂梯或梯头进行移动作业时，每次只允许一人工作，并且在开始工作前要确保梯头的挂钩口被可靠封闭。\n",
      "2. 在低温或高温环境下进行高处作业时，需要采取保暖和防暑降温措施，避免作业时间过长。\n",
      "3. 在恶劣天气条件下，如大风、暴雨、雷电等，应停止露天高处作业，除非是必要的抢修工作，并且需要制定必要的安全措施并经批准后方可进行。\n",
      "4. 在阀厅的高处作业时，使用升降车上下时必须使用安全帽和正确使用安全带，进入阀体前应继续使用安全带，并做好防止安全带保险钩等硬质部件打击阀体元件的措施。\n",
      "5. 在密闭容器内作业时，如焊接、衬胶、涂漆等，必须通风换气以保持氧气浓度在安全范围内，作业人员需使用正压式呼吸器。\n",
      "6. 在水域作业中，潜水员在进行水下闸门作业时，必须在闸门关闭后下水，在闸门开启前出水，并确保有可靠措施，以防止误开闸门。\n",
      "\n",
      "根据文档内容无法回答该问题。\n",
      "========================\n",
      "\n"
     ]
    }
   ],
   "source": [
    "response = t.query(\"作业基本条件及要求有哪些\")\n",
    "#高处作业有哪些安全保障措施\n",
    "#作业基本条件及要求有哪些\n"
   ]
  },
  {
   "cell_type": "code",
   "execution_count": 38,
   "metadata": {},
   "outputs": [
    {
     "data": {
      "text/plain": [
       "'作业基本条件及要求包括：\\n1. 作业环境应满足安全要求。\\n2. 在进行电力电缆作业时，应核对电缆标志牌的名称是否与工作票相符。\\n3. 高处砍剪树木时应使用安全带，并不得将安全带系在待砍剪树枝的断口附近或以上。\\n4. 在电缆隧道、电缆井内应有充足的照明，并有防火、防水、通风的措施。\\n5. 融冰装置启动前应关闭电源侧高压室大门，禁止无关人员进入。\\n6. 待融冰的导线或地线位于杆塔同一侧垂直排列时，应先融上层，后融下层。\\n7. 装设好导线与地线之间的连接线后，应拆除导线接地线，并拉开地线接地刀闸。\\n8. 未合接地刀闸前不得徒手碰触架空地线引下线、连接电缆、接地刀闸、电缆头等裸露的电气部位。\\n9. 操作杆塔上的接地刀闸或装、拆连接线时，应戴绝缘手套，使用绝缘操作杆。\\n10. 裸露的连接线应盘卷放置在绝缘架上，用绝缘护套包好，悬空放置，不能与塔材接触。\\n11. 危险化学品从业人员应接受安全教育和岗位技术培训，考核合格后方可上岗作业。'"
      ]
     },
     "execution_count": 38,
     "metadata": {},
     "output_type": "execute_result"
    }
   ],
   "source": [
    "#response.source_nodes[0].text"
   ]
  },
  {
   "cell_type": "code",
   "execution_count": 42,
   "metadata": {},
   "outputs": [
    {
     "name": "stdout",
     "output_type": "stream",
     "text": [
      "> Source (Doc id: 41161c7f-7abd-46cb-81d4-c6092776f228): 作业基本条件及要求包括：\n",
      "1. 作业环境应满足安全要求。\n",
      "2. 在进行电力电缆作业时，应核对电缆标志牌的名称是否与工作票相符。\n",
      "3. 高处砍剪树木时应使用安全带，并不得将安全带系在待砍剪树枝的断...\n",
      "\n",
      "> Source (Doc id: 1167cac7-3138-4e4f-bd19-e62795ff573d): 根据文档内容，作业基本条件及要求包括：\n",
      "1. 在使用软梯、挂梯或梯头进行移动作业时，每次只允许一人工作，并且在开始工作前要确保梯头的挂钩口被可靠封闭。\n",
      "2. 在低温或高温环境下进行高处作业时，需...\n"
     ]
    }
   ],
   "source": [
    "#print(response.get_formatted_sources())"
   ]
  }
 ],
 "metadata": {
  "kernelspec": {
   "display_name": ".venv",
   "language": "python",
   "name": "python3"
  },
  "language_info": {
   "codemirror_mode": {
    "name": "ipython",
    "version": 3
   },
   "file_extension": ".py",
   "mimetype": "text/x-python",
   "name": "python",
   "nbconvert_exporter": "python",
   "pygments_lexer": "ipython3",
   "version": "3.11.5"
  }
 },
 "nbformat": 4,
 "nbformat_minor": 2
}
