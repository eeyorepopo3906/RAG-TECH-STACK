{
 "cells": [
  {
   "cell_type": "code",
   "execution_count": 8,
   "metadata": {},
   "outputs": [],
   "source": [
    "import warnings\n",
    "warnings.filterwarnings('ignore')\n",
    "import os, sys\n",
    "src_path = os.path.join(os.path.abspath('..'), 'src')\n",
    "if src_path not in sys.path:\n",
    "    sys.path.append(src_path)\n",
    "\n",
    "from llama_index.llms.openai import OpenAI\n",
    "from local_models.embeddings import get_embed_model\n",
    "from llama_index.core import ServiceContext\n",
    "\n",
    "from data_loader.splitting import split_by_md_headers, text_2_Document\n",
    "from data_loader.parsing import MDDF\n",
    "from data_loader.chunking import chunk_docs_standalone\n",
    "from data_loader.load_from_dir import rebuild_index\n",
    "\n",
    "#from llama_index.core import Document\n",
    "import re\n",
    "import pandas as pd\n",
    "\n",
    "from typing import Dict, List\n",
    "from dotenv import load_dotenv"
   ]
  },
  {
   "cell_type": "code",
   "execution_count": 3,
   "metadata": {},
   "outputs": [],
   "source": [
    "from llama_index.core import VectorStoreIndex, SummaryIndex\n",
    "from llama_index.core import PromptTemplate\n",
    "from llama_index.core.tools import QueryEngineTool, ToolMetadata\n",
    "from llama_index.core.schema import IndexNode\n",
    "\n",
    "from llama_index.agent.openai import OpenAIAgent\n",
    "#from llama_index.core.agent import ReActAgent\n",
    "\n",
    "from llama_index.core.retrievers import RecursiveRetriever\n",
    "from llama_index.core.response_synthesizers import get_response_synthesizer\n",
    "from llama_index.core.query_engine import RetrieverQueryEngine\n",
    "from utils import load_prompt"
   ]
  },
  {
   "cell_type": "code",
   "execution_count": 4,
   "metadata": {},
   "outputs": [
    {
     "data": {
      "text/plain": [
       "True"
      ]
     },
     "execution_count": 4,
     "metadata": {},
     "output_type": "execute_result"
    }
   ],
   "source": [
    "load_dotenv(override=True)"
   ]
  },
  {
   "cell_type": "markdown",
   "metadata": {},
   "source": [
    "## LLM and Embeddings"
   ]
  },
  {
   "cell_type": "code",
   "execution_count": 5,
   "metadata": {},
   "outputs": [],
   "source": [
    "embed_model = get_embed_model(model_name=os.environ['embed_path'],  model_kwargs={'device': 'cpu'}, encode_kwargs = {'normalize_embeddings': True})\n",
    "llm = OpenAI()\n",
    "service_context = ServiceContext.from_defaults(llm=llm, embed_model=embed_model)\n"
   ]
  },
  {
   "cell_type": "markdown",
   "metadata": {},
   "source": [
    "## Load data as DF and apply chunking to each content cell"
   ]
  },
  {
   "cell_type": "code",
   "execution_count": 9,
   "metadata": {},
   "outputs": [],
   "source": [
    "#format md as DF\n",
    "df = split_by_md_headers('../data/RAG-塞尔达王国之泪材料.md')\n",
    "#construct node mappings\n",
    "key_words, docs = MDDF(df, [1]).construct_node_mappings(show_progress=False)#remove useless contents"
   ]
  },
  {
   "cell_type": "code",
   "execution_count": 18,
   "metadata": {},
   "outputs": [],
   "source": [
    "def get_embeddings_from_docs():\n",
    "    for i, kw in enumerate(key_words):\n",
    "        vector_index = VectorStoreIndex(docs[kw], embed_model=embed_model)\n",
    "        vector_index.storage_context.persist(persist_dir=f\"../db_stores/doc_agent_vector_index/idx_{i}\")\n",
    "        \n",
    "        summary_index = SummaryIndex(docs[kw], embed_model=embed_model)\n",
    "        summary_index.storage_context.persist(persist_dir=f\"../db_stores/doc_agent_summary_index/idx_{i}\")\n",
    "        "
   ]
  },
  {
   "cell_type": "code",
   "execution_count": 19,
   "metadata": {},
   "outputs": [],
   "source": [
    "get_embeddings_from_docs()"
   ]
  },
  {
   "cell_type": "markdown",
   "metadata": {},
   "source": [
    "### Build Query Engine (Document Agents)"
   ]
  },
  {
   "cell_type": "code",
   "execution_count": 22,
   "metadata": {},
   "outputs": [],
   "source": [
    "def build_doc_agent_engine(key_words, docs=None, similarity_top_k=None):\n",
    "    ##Build Document Agent for each Document\n",
    "    \n",
    "    #build agents dict\n",
    "    agents = {}\n",
    "    nodes = []\n",
    "    for i, kw in enumerate(key_words):\n",
    "\n",
    "        #build vector index--first time\n",
    "        #vector_index = VectorStoreIndex(docs[kw], embed_model=embed_model)\n",
    "        #vector_index.storage_context.persist(persist_dir=\"db_stores/doc_agent_vector_index\")\n",
    "\n",
    "        #load from disk\n",
    "        vector_index = rebuild_index(persist_dir=f'../db_stores/doc_agent_vector_index/idx_{i}', service_context=service_context)\n",
    "\n",
    "\n",
    "        #build keyword indexfirst time\n",
    "        #kw_index = KeywordTableIndex.from_docunments(docs[kw])\n",
    "        #summary_index = SummaryIndex(docs[kw], embed_model=embed_model)\n",
    "        #summary_index.storage_context.persist(persist_dir=\"db_stores/doc_agent_summary_index\")\n",
    "\n",
    "        #load from disk\n",
    "        summary_index = rebuild_index(persist_dir=f'../db_stores/doc_agent_summary_index/idx_{i}', service_context=service_context)\n",
    "\n",
    "\n",
    "\n",
    "        #define query engines\n",
    "        vector_query_engine = vector_index.as_query_engine(llm=llm)\n",
    "\n",
    "        \n",
    "        #kw_query_engine = kw_index.as_query_engine()\n",
    "        list_query_engine = summary_index.as_query_engine(llm=llm)\n",
    "\n",
    "\n",
    "        #define tools\n",
    "        query_engine_tools = [\n",
    "            QueryEngineTool(\n",
    "                query_engine=vector_query_engine,\n",
    "                metadata=ToolMetadata(\n",
    "                    name=\"vector_tool\",\n",
    "                    description=(\n",
    "                        f\"Useful for retrieving specific context from {kw}\"\n",
    "                    )\n",
    "                )\n",
    "            ),\n",
    "            QueryEngineTool(\n",
    "                #query_engine=kw_query_engine,\n",
    "                query_engine=list_query_engine,\n",
    "                metadata=ToolMetadata(\n",
    "                    name=\"summary_tool\",\n",
    "                    description=(\n",
    "                        f\"Useful for summarization-wise questions related to {kw}\"\n",
    "                    )\n",
    "                )\n",
    "            )\n",
    "        ]\n",
    "        \n",
    "\n",
    "        #build agents\n",
    "        agent = OpenAIAgent.from_tools(\n",
    "            query_engine_tools,\n",
    "            llm=llm,\n",
    "            embed_model=embed_model,\n",
    "            verbose=True,\n",
    "            #output_parser=output_parser, \n",
    "            \n",
    "            system_prompt=f\"\"\"\\\n",
    "                Make sure to respond in Chinese.\n",
    "\n",
    "                You must ALWAYS use at least one of the tools provided when answering a question; do NOT rely on prior knowledge.\n",
    "                Please refer to the summary_tool first if you inquire summarization-wise questions about {kw}\n",
    "                If you need to fetch details about {kw}, please refer to the vector_tool first.\n",
    "                \"\"\",\n",
    "        )#ReActAgent\n",
    "        agents[kw] = agent\n",
    "    \n",
    "    \n",
    "        ##Build Composable Retriever over the agents\n",
    "        #define top-level nodes\n",
    "        instru =(\n",
    "            \"This content contains some introduction to The Legend of Zelda: Tears of the Kingdom\"\n",
    "             \"on the following aspect {kw}, \"\n",
    "            f\"Use this index if you need to look up specific facts about {kw}, \"\n",
    "            f\"Do not use this index if you want to analyze aspects beyond {kw} \"\n",
    "        )\n",
    "\n",
    "        node = IndexNode(\n",
    "            text=instru, index_id=kw, obj= agent\n",
    "            )\n",
    "        nodes.append(node)\n",
    "    \n",
    "    #define top-level retriever\n",
    "    top_vector_index = VectorStoreIndex(objects=nodes, embed_model=embed_model)\n",
    "    query_engine = top_vector_index.as_query_engine(similarity_top_k=similarity_top_k, verbose=True)\n",
    "    return query_engine\n"
   ]
  },
  {
   "cell_type": "code",
   "execution_count": 23,
   "metadata": {},
   "outputs": [],
   "source": [
    "t = build_doc_agent_engine(key_words, similarity_top_k=2)"
   ]
  },
  {
   "cell_type": "code",
   "execution_count": 24,
   "metadata": {},
   "outputs": [
    {
     "name": "stdout",
     "output_type": "stream",
     "text": [
      "\u001b[1;3;38;2;11;159;203mRetrieval entering 塞尔达王国之泪, 人物介绍, **阿沅**: OpenAIAgent\n",
      "\u001b[0m\u001b[1;3;38;2;237;90;200mRetrieving from object OpenAIAgent with query 王国之泪的背景设定是什么\n",
      "\u001b[0mAdded user message to memory: 王国之泪的背景设定是什么\n",
      "=== Calling Function ===\n",
      "Calling function: vector_tool with args: {\"input\":\"王国之泪的背景设定\"}\n",
      "Got output: The background setting of \"王国之泪\" involves a character who, after the cessation of volcanic eruptions, discovers a new area for mining. This character then forms a group to mine ore and bring prosperity to their tribe. Initially a kind-hearted youth, the character regains their former good nature after removing a suspicious mask.\n",
      "========================\n",
      "\n",
      "\u001b[1;3;38;2;11;159;203mRetrieval entering 塞尔达王国之泪, 人物介绍, **松达夫妻**: OpenAIAgent\n",
      "\u001b[0m\u001b[1;3;38;2;237;90;200mRetrieving from object OpenAIAgent with query 王国之泪的背景设定是什么\n",
      "\u001b[0mAdded user message to memory: 王国之泪的背景设定是什么\n",
      "=== Calling Function ===\n",
      "Calling function: vector_tool with args: {\"input\":\"王国之泪的背景设定是什么\"}\n",
      "Got output: The background setting of \"王国之泪\" is a fantasy world where various characters and factions are involved in a complex web of relationships and conflicts. The story revolves around the struggles and ambitions of different groups within this world, each with their own goals and motivations.\n",
      "========================\n",
      "\n"
     ]
    },
    {
     "data": {
      "text/plain": [
       "Response(response='王国之泪的背景设定是一个幻想世界，各种角色和派系在复杂的关系和冲突中相互交织。故事围绕着这个世界内不同团体的斗争和抱负展开，每个团体都有自己的目标和动机。', source_nodes=[NodeWithScore(node=TextNode(id_='7a1cf292-cdb9-457b-8dae-765fdf42613b', embedding=None, metadata={}, excluded_embed_metadata_keys=[], excluded_llm_metadata_keys=[], relationships={}, text='《王国之泪》的背景设定涉及一个角色，在火山喷发停止后，发现了一个新的采矿区域。这个角色随后组建了一个团队来开采矿石，为部落带来繁荣。最初是一个善良的年轻人，这个角色在摘下一个可疑的面具后恢复了以往的善良本性。', start_char_idx=None, end_char_idx=None, text_template='{metadata_str}\\n\\n{content}', metadata_template='{key}: {value}', metadata_seperator='\\n'), score=0.7799257866888537), NodeWithScore(node=TextNode(id_='2eaf2888-3859-4c29-87b5-f08e3fe37ed3', embedding=None, metadata={}, excluded_embed_metadata_keys=[], excluded_llm_metadata_keys=[], relationships={}, text='\"王国之泪\"的背景设定是一个幻想世界，各种角色和派系在复杂的关系和冲突中相互交织。故事围绕着这个世界内不同团体的斗争和抱负展开，每个团体都有自己的目标和动机。', start_char_idx=None, end_char_idx=None, text_template='{metadata_str}\\n\\n{content}', metadata_template='{key}: {value}', metadata_seperator='\\n'), score=0.774774116388991)], metadata={'7a1cf292-cdb9-457b-8dae-765fdf42613b': {}, '2eaf2888-3859-4c29-87b5-f08e3fe37ed3': {}})"
      ]
     },
     "execution_count": 24,
     "metadata": {},
     "output_type": "execute_result"
    }
   ],
   "source": [
    "t.query(\"王国之泪的背景设定是什么\")"
   ]
  }
 ],
 "metadata": {
  "kernelspec": {
   "display_name": ".venv",
   "language": "python",
   "name": "python3"
  },
  "language_info": {
   "codemirror_mode": {
    "name": "ipython",
    "version": 3
   },
   "file_extension": ".py",
   "mimetype": "text/x-python",
   "name": "python",
   "nbconvert_exporter": "python",
   "pygments_lexer": "ipython3",
   "version": "3.11.5"
  }
 },
 "nbformat": 4,
 "nbformat_minor": 2
}
