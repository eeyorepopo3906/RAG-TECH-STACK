{
 "cells": [
  {
   "cell_type": "code",
   "execution_count": 31,
   "metadata": {},
   "outputs": [],
   "source": [
    "import warnings\n",
    "warnings.filterwarnings('ignore')\n",
    "import os, sys\n",
    "src_path = os.path.join(os.path.abspath('..'), 'src')\n",
    "if src_path not in sys.path:\n",
    "    sys.path.append(src_path)\n",
    "\n",
    "from llama_index.llms.openai import OpenAI\n",
    "from local_models.embeddings import get_embed_model\n",
    "from llama_index.core import ServiceContext\n",
    "\n",
    "from data_loader.splitting import split_by_md_headers, text_2_Document\n",
    "from data_loader.parsing import MDDF\n",
    "from data_loader.chunking import chunk_docs_standalone\n",
    "from data_loader.load_from_dir import rebuild_index\n",
    "\n",
    "#from llama_index.core import Document\n",
    "import re\n",
    "import pandas as pd\n",
    "\n",
    "from typing import Dict, List\n",
    "from dotenv import load_dotenv"
   ]
  },
  {
   "cell_type": "code",
   "execution_count": 32,
   "metadata": {},
   "outputs": [],
   "source": [
    "from llama_index.core import VectorStoreIndex, SummaryIndex\n",
    "from llama_index.core import PromptTemplate\n",
    "from llama_index.core.tools import QueryEngineTool, ToolMetadata\n",
    "from llama_index.core.schema import IndexNode\n",
    "\n",
    "from llama_index.agent.openai import OpenAIAgent\n",
    "#from llama_index.core.agent import ReActAgent\n",
    "\n",
    "from llama_index.core.retrievers import RecursiveRetriever\n",
    "from llama_index.core.response_synthesizers import get_response_synthesizer\n",
    "from llama_index.core.query_engine import RetrieverQueryEngine\n",
    "from utils import load_prompt"
   ]
  },
  {
   "cell_type": "code",
   "execution_count": 33,
   "metadata": {},
   "outputs": [
    {
     "data": {
      "text/plain": [
       "True"
      ]
     },
     "execution_count": 33,
     "metadata": {},
     "output_type": "execute_result"
    }
   ],
   "source": [
    "load_dotenv(override=True)"
   ]
  },
  {
   "cell_type": "markdown",
   "metadata": {},
   "source": [
    "## LLM and Embeddings"
   ]
  },
  {
   "cell_type": "code",
   "execution_count": 34,
   "metadata": {},
   "outputs": [],
   "source": [
    "embed_model = get_embed_model(model_name=os.environ['embed_path'],  model_kwargs={'device': 'cpu'}, encode_kwargs = {'normalize_embeddings': True})\n",
    "llm = OpenAI()\n",
    "service_context = ServiceContext.from_defaults(llm=llm, embed_model=embed_model)\n"
   ]
  },
  {
   "cell_type": "markdown",
   "metadata": {},
   "source": [
    "## Load data as DF and apply chunking to each content cell"
   ]
  },
  {
   "cell_type": "code",
   "execution_count": 35,
   "metadata": {},
   "outputs": [],
   "source": [
    "#format md as DF\n",
    "df = split_by_md_headers('../data/第三部分.md')\n",
    "#construct node mappings\n",
    "key_words, docs = MDDF(df, [1]).construct_node_mappings(show_progress=False)#remove useless contents"
   ]
  },
  {
   "cell_type": "code",
   "execution_count": 36,
   "metadata": {},
   "outputs": [],
   "source": [
    "def get_embeddings_from_docs():\n",
    "    for i, kw in enumerate(key_words):\n",
    "        vector_index = VectorStoreIndex(docs[kw], embed_model=embed_model)\n",
    "        vector_index.storage_context.persist(persist_dir=f\"../db_stores/doc_agent_vector_index/idx_{i}\")\n",
    "        \n",
    "        summary_index = SummaryIndex(docs[kw], embed_model=embed_model)\n",
    "        summary_index.storage_context.persist(persist_dir=f\"../db_stores/doc_agent_summary_index/idx_{i}\")\n",
    "        "
   ]
  },
  {
   "cell_type": "code",
   "execution_count": 37,
   "metadata": {},
   "outputs": [],
   "source": [
    "get_embeddings_from_docs()"
   ]
  },
  {
   "cell_type": "markdown",
   "metadata": {},
   "source": [
    "### Build Query Engine (Document Agents)"
   ]
  },
  {
   "cell_type": "code",
   "execution_count": 52,
   "metadata": {},
   "outputs": [],
   "source": [
    "def build_doc_agent_engine(key_words, docs=None, similarity_top_k=None):\n",
    "    ##Build Document Agent for each Document\n",
    "    \n",
    "    #build agents dict\n",
    "    agents = {}\n",
    "    nodes = []\n",
    "    for i, kw in enumerate(key_words):\n",
    "\n",
    "        #build vector index--first time\n",
    "        #vector_index = VectorStoreIndex(docs[kw], embed_model=embed_model)\n",
    "        #vector_index.storage_context.persist(persist_dir=\"db_stores/doc_agent_vector_index\")\n",
    "\n",
    "        #load from disk\n",
    "        vector_index = rebuild_index(persist_dir=f'../db_stores/doc_agent_vector_index/idx_{i}', service_context=service_context)\n",
    "\n",
    "\n",
    "        #build keyword indexfirst time\n",
    "        #kw_index = KeywordTableIndex.from_docunments(docs[kw])\n",
    "        #summary_index = SummaryIndex(docs[kw], embed_model=embed_model)\n",
    "        #summary_index.storage_context.persist(persist_dir=\"db_stores/doc_agent_summary_index\")\n",
    "\n",
    "        #load from disk\n",
    "        summary_index = rebuild_index(persist_dir=f'../db_stores/doc_agent_summary_index/idx_{i}', service_context=service_context)\n",
    "\n",
    "\n",
    "\n",
    "        #define query engines\n",
    "        vector_query_engine = vector_index.as_query_engine(llm=llm)\n",
    "\n",
    "        \n",
    "        #kw_query_engine = kw_index.as_query_engine()\n",
    "        list_query_engine = summary_index.as_query_engine(llm=llm)\n",
    "\n",
    "\n",
    "        #define tools\n",
    "        query_engine_tools = [\n",
    "            QueryEngineTool(\n",
    "                query_engine=vector_query_engine,\n",
    "                metadata=ToolMetadata(\n",
    "                    name=\"vector_tool\",\n",
    "                    description=(\n",
    "                        f\"Useful for retrieving specific context from {kw}\"\n",
    "                    )\n",
    "                )\n",
    "            ),\n",
    "            QueryEngineTool(\n",
    "                #query_engine=kw_query_engine,\n",
    "                query_engine=list_query_engine,\n",
    "                metadata=ToolMetadata(\n",
    "                    name=\"summary_tool\",\n",
    "                    description=(\n",
    "                        f\"Useful for summarization-wise questions related to {kw}\"\n",
    "                    )\n",
    "                )\n",
    "            )\n",
    "        ]\n",
    "        \n",
    "\n",
    "        #build agents\n",
    "        agent = OpenAIAgent.from_tools(\n",
    "            query_engine_tools,\n",
    "            llm=llm,\n",
    "            embed_model=embed_model,\n",
    "            verbose=True,\n",
    "            #output_parser=output_parser, \n",
    "            \n",
    "            system_prompt=f\"\"\"\\\n",
    "                Make sure to respond in Chinese.\n",
    "\n",
    "                You must ALWAYS use at least one of the tools provided when answering a question; do NOT rely on prior knowledge.\n",
    "                Please refer to the summary_tool first if you inquire summarization-wise questions about {kw}\n",
    "                If you need to fetch details about {kw}, please refer to the vector_tool first.\n",
    "\n",
    "                Respond only in Chinese.\n",
    "\n",
    "                \"\"\",\n",
    "        )#ReActAgent\n",
    "        agents[kw] = agent\n",
    "    \n",
    "    \n",
    "        ##Build Composable Retriever over the agents\n",
    "        #define top-level nodes\n",
    "        instru =(\n",
    "                \n",
    "            \"This content contains some introduction to Electric Power Safety Work Procedures of China Southern Power Grid Co., Ltd., Part 3: Special Operations Content\"\n",
    "             \"on the following aspect {kw}, \"\n",
    "            f\"Use this index if you need to look up specific facts about {kw}, \"\n",
    "            f\"Do not use this index if you want to analyze aspects beyond {kw} \"\n",
    "            \"Respond only in Chinese.\"\n",
    "        )\n",
    "\n",
    "        node = IndexNode(\n",
    "            text=instru, index_id=kw, obj= agent\n",
    "            )\n",
    "        nodes.append(node)\n",
    "    \n",
    "    #define top-level retriever\n",
    "    top_vector_index = VectorStoreIndex(objects=nodes, embed_model=embed_model)\n",
    "    query_engine = top_vector_index.as_query_engine(similarity_top_k=similarity_top_k, verbose=True)\n",
    "    return query_engine\n"
   ]
  },
  {
   "cell_type": "code",
   "execution_count": 53,
   "metadata": {},
   "outputs": [],
   "source": [
    "t = build_doc_agent_engine(key_words, similarity_top_k=2)"
   ]
  },
  {
   "cell_type": "code",
   "execution_count": 54,
   "metadata": {},
   "outputs": [
    {
     "name": "stdout",
     "output_type": "stream",
     "text": [
      "\u001b[1;3;38;2;11;159;203mRetrieval entering 中国南方电网有限责任公司电力安全工作规程, 第 3 部分 专项作业, 电气测量作业, 使用携带型仪器测量: OpenAIAgent\n",
      "\u001b[0m\u001b[1;3;38;2;237;90;200mRetrieving from object OpenAIAgent with query 测量低压熔断器和水平排列低压母线电流时有什么注意事项\n",
      "\u001b[0mAdded user message to memory: 测量低压熔断器和水平排列低压母线电流时有什么注意事项\n",
      "=== Calling Function ===\n",
      "Calling function: vector_tool with args: {\"input\":\"测量低压熔断器和水平排列低压母线电流时有什么注意事项\"}\n",
      "Got output: When measuring the current of low-voltage fuses and horizontally arranged low-voltage busbars, it is important to ensure that all measurements are conducted on the secondary side of current transformers. Additionally, the wire cross-sections used for connecting the current circuit should be suitable for the measured current values. It is crucial to follow proper safety protocols, such as using insulated tools, wearing insulated gloves and safety goggles, standing on an insulating mat, and having a designated person to supervise the work. Remember to maintain the required safety distances from live parts as specified in Table 1 and to use appropriate warning signs and barriers when setting up measurement devices.\n",
      "========================\n",
      "\n",
      "\u001b[1;3;38;2;11;159;203mRetrieval entering 中国南方电网有限责任公司电力安全工作规程, 第 3 部分 专项作业, 电气测量作业, 高压线路使用接地电阻表测量: OpenAIAgent\n",
      "\u001b[0m\u001b[1;3;38;2;237;90;200mRetrieving from object OpenAIAgent with query 测量低压熔断器和水平排列低压母线电流时有什么注意事项\n",
      "\u001b[0mAdded user message to memory: 测量低压熔断器和水平排列低压母线电流时有什么注意事项\n",
      "=== Calling Function ===\n",
      "Calling function: vector_tool with args: {\"input\":\"测量低压熔断器和水平排列低压母线电流时有什么注意事项\"}\n",
      "Got output: When measuring low-voltage fuses and horizontal low-voltage busbar currents, it is important to wear insulated gloves. Avoid direct contact with the grounding leads that are disconnected from the ground potential.\n",
      "========================\n",
      "\n"
     ]
    },
    {
     "data": {
      "text/plain": [
       "Response(response='重要的注意事项包括确保所有测量都在电流互感器的次级侧进行，使用适合所测电流数值的导线截面，佩戴绝缘手套，避免直接接触与接地电位断开连接的接地引线，遵循适当的安全协议如使用绝缘工具、戴安全护目镜、站在绝缘垫上，并保持与带电部件的必要安全距离。', source_nodes=[NodeWithScore(node=TextNode(id_='c1ff7d03-bd0e-47b2-a805-7a9e11e2b97c', embedding=None, metadata={}, excluded_embed_metadata_keys=[], excluded_llm_metadata_keys=[], relationships={}, text='在测量低压熔断器和水平排列低压母线电流时，重要的是确保所有测量都在电流互感器的次级侧进行。此外，用于连接电流回路的导线截面应适合所测电流数值。必须遵循适当的安全协议，如使用绝缘工具、戴绝缘手套和安全护目镜、站在绝缘垫上，并有专人监督工作。记得保持与表1中规定的带电部件的必要安全距离，并在设置测量设备时使用适当的警示标志和屏障。', start_char_idx=None, end_char_idx=None, text_template='{metadata_str}\\n\\n{content}', metadata_template='{key}: {value}', metadata_seperator='\\n'), score=0.7669828411637836), NodeWithScore(node=TextNode(id_='2cf77b11-a2cc-4421-a484-8659fb8d77b0', embedding=None, metadata={}, excluded_embed_metadata_keys=[], excluded_llm_metadata_keys=[], relationships={}, text='在测量低压熔断器和水平排列低压母线电流时，重要的注意事项包括佩戴绝缘手套，避免直接接触与接地电位断开连接的接地引线。', start_char_idx=None, end_char_idx=None, text_template='{metadata_str}\\n\\n{content}', metadata_template='{key}: {value}', metadata_seperator='\\n'), score=0.7663612127029309)], metadata={'c1ff7d03-bd0e-47b2-a805-7a9e11e2b97c': {}, '2cf77b11-a2cc-4421-a484-8659fb8d77b0': {}})"
      ]
     },
     "execution_count": 54,
     "metadata": {},
     "output_type": "execute_result"
    }
   ],
   "source": [
    "t.query(\"测量低压熔断器和水平排列低压母线电流时有什么注意事项\")\n",
    "# 动火区域分为几级？哪些情况下禁止动火作业\n",
    "# "
   ]
  }
 ],
 "metadata": {
  "kernelspec": {
   "display_name": ".venv",
   "language": "python",
   "name": "python3"
  },
  "language_info": {
   "codemirror_mode": {
    "name": "ipython",
    "version": 3
   },
   "file_extension": ".py",
   "mimetype": "text/x-python",
   "name": "python",
   "nbconvert_exporter": "python",
   "pygments_lexer": "ipython3",
   "version": "3.11.5"
  }
 },
 "nbformat": 4,
 "nbformat_minor": 2
}
